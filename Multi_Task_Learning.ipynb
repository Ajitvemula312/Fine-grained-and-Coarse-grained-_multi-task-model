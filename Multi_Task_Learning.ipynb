{
  "cells": [
    {
      "cell_type": "markdown",
      "metadata": {
        "id": "rj9nDTw3BFHe"
      },
      "source": [
        "## Import required libraries"
      ]
    },
    {
      "cell_type": "code",
      "execution_count": 100,
      "metadata": {
        "id": "0Zc1BBnkBFHe"
      },
      "outputs": [],
      "source": [
        "import pandas as pd\n",
        "import numpy as np\n",
        "import cv2\n",
        "import tensorflow as tf\n",
        "import matplotlib.pyplot as plt\n",
        "from sklearn.preprocessing import OneHotEncoder"
      ]
    },
    {
      "cell_type": "markdown",
      "metadata": {
        "id": "Jy-gIvA_BFHf"
      },
      "source": [
        "## Load CIFAR100 dataset"
      ]
    },
    {
      "cell_type": "code",
      "execution_count": 101,
      "metadata": {
        "id": "1vgRALYxBFHf"
      },
      "outputs": [],
      "source": [
        "(x_train, y_train_fine), (x_test, y_test_fine) = tf.keras.datasets.cifar100.load_data(label_mode='fine')\n",
        "(x_train, y_train_coarse), (x_test, y_test_coarse) = tf.keras.datasets.cifar100.load_data(label_mode='coarse')"
      ]
    },
    {
      "cell_type": "code",
      "execution_count": 102,
      "metadata": {
        "colab": {
          "base_uri": "https://localhost:8080/"
        },
        "id": "Pq3ALccHaEBF",
        "outputId": "e9281ce0-086d-4249-f4f9-6e124cd59b2e"
      },
      "outputs": [
        {
          "name": "stdout",
          "output_type": "stream",
          "text": [
            "(50000, 32, 32, 3) (50000, 1)\n",
            "(50000, 32, 32, 3) (50000, 1)\n"
          ]
        }
      ],
      "source": [
        "print(x_train.shape,y_train_fine.shape)\n",
        "print(x_train.shape,y_train_coarse.shape)"
      ]
    },
    {
      "cell_type": "code",
      "execution_count": 103,
      "metadata": {
        "id": "wY6fsgclaPd5"
      },
      "outputs": [],
      "source": [
        "x_train = np.array([cv2.resize(img, (32, 32)) for img in x_train])\n",
        "x_test = np.array([cv2.resize(img, (32, 32)) for img in x_test])"
      ]
    },
    {
      "cell_type": "code",
      "execution_count": 104,
      "metadata": {
        "colab": {
          "base_uri": "https://localhost:8080/"
        },
        "id": "kirVYWRcaWev",
        "outputId": "7b1b3b39-69f6-43cf-e271-8b04ff7eb074"
      },
      "outputs": [
        {
          "name": "stdout",
          "output_type": "stream",
          "text": [
            "(50000, 100)\n",
            "[0 0 0 0 0 0 0 0 0 0 0 0 0 0 0 0 0 0 0 1 0 0 0 0 0 0 0 0 0 0 0 0 0 0 0 0 0\n",
            " 0 0 0 0 0 0 0 0 0 0 0 0 0 0 0 0 0 0 0 0 0 0 0 0 0 0 0 0 0 0 0 0 0 0 0 0 0\n",
            " 0 0 0 0 0 0 0 0 0 0 0 0 0 0 0 0 0 0 0 0 0 0 0 0 0 0]\n",
            "(50000, 20)\n",
            "[0 0 0 0 0 0 0 0 0 0 0 1 0 0 0 0 0 0 0 0]\n"
          ]
        }
      ],
      "source": [
        "enc = OneHotEncoder()\n",
        "\n",
        "y_train_fine=enc.fit_transform(y_train_fine).toarray().astype(int)\n",
        "y_test_fine=enc.transform(y_test_fine).toarray().astype(int)\n",
        "\n",
        "\n",
        "print(y_train_fine.shape)\n",
        "print(y_train_fine[0])\n",
        "\n",
        "y_train_coarse=enc.fit_transform(y_train_coarse).toarray().astype(int)\n",
        "y_test_coarse=enc.transform(y_test_coarse).toarray().astype(int)\n",
        "\n",
        "\n",
        "print(y_train_coarse.shape)\n",
        "print(y_train_coarse[0])"
      ]
    },
    {
      "cell_type": "code",
      "execution_count": 105,
      "metadata": {
        "colab": {
          "base_uri": "https://localhost:8080/"
        },
        "id": "CKEoFe_AM8fD",
        "outputId": "356bf240-8d1a-4392-8aa9-95c1a4584c07"
      },
      "outputs": [
        {
          "name": "stdout",
          "output_type": "stream",
          "text": [
            "\n",
            "Shapeof modified CIFAR100 dataset: \n",
            "\n",
            "(50000, 32, 32, 3)\n",
            "(50000, 100)\n",
            "(50000, 20)\n",
            "(10000, 32, 32, 3)\n",
            "(10000, 100)\n",
            "(10000, 20)\n"
          ]
        }
      ],
      "source": [
        "print('\\nShapeof modified CIFAR100 dataset: \\n')\n",
        "print(x_train.shape)\n",
        "print(y_train_fine.shape)\n",
        "print(y_train_coarse.shape)\n",
        "print(x_test.shape)\n",
        "print(y_test_fine.shape)\n",
        "print(y_test_coarse.shape)"
      ]
    },
    {
      "cell_type": "markdown",
      "metadata": {
        "id": "QsDrMOInBFHh"
      },
      "source": [
        "## Build Model"
      ]
    },
    {
      "cell_type": "code",
      "execution_count": 106,
      "metadata": {
        "id": "SuU7-qKZBFHh"
      },
      "outputs": [],
      "source": [
        "# BUILD MODEL\n",
        "\n",
        "def create_multi_task_learning_model():\n",
        "    inputs = tf.keras.layers.Input(shape=(32, 32, 3), name='input')\n",
        "    x = tf.keras.layers.Conv2D(32, (3, 3), activation='relu')(inputs)\n",
        "    x = tf.keras.layers.MaxPooling2D((2, 2))(x)\n",
        "    x = tf.keras.layers.Conv2D(64, (3, 3), activation='relu')(x)\n",
        "    x = tf.keras.layers.MaxPooling2D((2, 2))(x)\n",
        "    x = tf.keras.layers.Flatten()(x)\n",
        "\n",
        "    # Fine-grained classification branch\n",
        "    fine_output = tf.keras.layers.Dense(512, activation='relu')(x)\n",
        "    fine_output = tf.keras.layers.Dense(256, activation='relu')(fine_output)\n",
        "    fine_output = tf.keras.layers.Dense(100, activation='softmax', name='fine_output')(fine_output)\n",
        "\n",
        "    # Coarse-grained classification branch\n",
        "    coarse_output = tf.keras.layers.Dense(256, activation='relu')(x)\n",
        "    coarse_output = tf.keras.layers.Dense(100, activation='relu')(coarse_output)\n",
        "    coarse_output = tf.keras.layers.Dense(20, activation='softmax', name='coarse_output')(coarse_output)\n",
        "\n",
        "    model = tf.keras.Model(inputs=inputs, outputs=[fine_output, coarse_output])\n",
        "    return model"
      ]
    },
    {
      "cell_type": "markdown",
      "metadata": {
        "id": "eWL-kVQXBFHh"
      },
      "source": [
        "## Compile Model"
      ]
    },
    {
      "cell_type": "code",
      "execution_count": 107,
      "metadata": {
        "id": "G7U_pad5BFHh"
      },
      "outputs": [],
      "source": [
        "def compile_multitask_model(model):\n",
        "    model.compile(optimizer='adam',\n",
        "                  loss={'fine_output': 'categorical_crossentropy',\n",
        "                        'coarse_output': 'categorical_crossentropy'},\n",
        "                  loss_weights={'fine_output': 0.5, 'coarse_output': 0.5},\n",
        "                  metrics=['accuracy'])\n",
        "    return model"
      ]
    },
    {
      "cell_type": "code",
      "execution_count": 108,
      "metadata": {
        "colab": {
          "base_uri": "https://localhost:8080/"
        },
        "id": "0RVbO3wprZGJ",
        "outputId": "b6aef7d2-f30e-42b3-9bf3-c2ad01641462"
      },
      "outputs": [
        {
          "name": "stdout",
          "output_type": "stream",
          "text": [
            "Epoch 1/20\n",
            "391/391 [==============================] - 5s 7ms/step - loss: 4.0537 - fine_output_loss: 4.8647 - coarse_output_loss: 3.2426 - fine_output_accuracy: 0.0678 - coarse_output_accuracy: 0.1681\n",
            "Epoch 2/20\n",
            "391/391 [==============================] - 3s 7ms/step - loss: 2.8717 - fine_output_loss: 3.4736 - coarse_output_loss: 2.2698 - fine_output_accuracy: 0.1856 - coarse_output_accuracy: 0.3076\n",
            "Epoch 3/20\n",
            "391/391 [==============================] - 3s 8ms/step - loss: 2.4810 - fine_output_loss: 2.9727 - coarse_output_loss: 1.9893 - fine_output_accuracy: 0.2749 - coarse_output_accuracy: 0.3889\n",
            "Epoch 4/20\n",
            "391/391 [==============================] - 3s 7ms/step - loss: 2.1636 - fine_output_loss: 2.5630 - coarse_output_loss: 1.7642 - fine_output_accuracy: 0.3549 - coarse_output_accuracy: 0.4541\n",
            "Epoch 5/20\n",
            "391/391 [==============================] - 3s 7ms/step - loss: 1.8508 - fine_output_loss: 2.1575 - coarse_output_loss: 1.5441 - fine_output_accuracy: 0.4414 - coarse_output_accuracy: 0.5193\n",
            "Epoch 6/20\n",
            "391/391 [==============================] - 3s 7ms/step - loss: 1.5326 - fine_output_loss: 1.7489 - coarse_output_loss: 1.3163 - fine_output_accuracy: 0.5330 - coarse_output_accuracy: 0.5870\n",
            "Epoch 7/20\n",
            "391/391 [==============================] - 3s 7ms/step - loss: 1.2431 - fine_output_loss: 1.3698 - coarse_output_loss: 1.1163 - fine_output_accuracy: 0.6238 - coarse_output_accuracy: 0.6480\n",
            "Epoch 8/20\n",
            "391/391 [==============================] - 3s 8ms/step - loss: 0.9969 - fine_output_loss: 1.0588 - coarse_output_loss: 0.9350 - fine_output_accuracy: 0.7017 - coarse_output_accuracy: 0.7026\n",
            "Epoch 9/20\n",
            "391/391 [==============================] - 3s 7ms/step - loss: 0.7899 - fine_output_loss: 0.8228 - coarse_output_loss: 0.7571 - fine_output_accuracy: 0.7621 - coarse_output_accuracy: 0.7580\n",
            "Epoch 10/20\n",
            "391/391 [==============================] - 3s 7ms/step - loss: 0.6329 - fine_output_loss: 0.6466 - coarse_output_loss: 0.6192 - fine_output_accuracy: 0.8098 - coarse_output_accuracy: 0.7989\n",
            "Epoch 11/20\n",
            "391/391 [==============================] - 3s 7ms/step - loss: 0.5324 - fine_output_loss: 0.5428 - coarse_output_loss: 0.5220 - fine_output_accuracy: 0.8395 - coarse_output_accuracy: 0.8323\n",
            "Epoch 12/20\n",
            "391/391 [==============================] - 3s 9ms/step - loss: 0.4606 - fine_output_loss: 0.4762 - coarse_output_loss: 0.4450 - fine_output_accuracy: 0.8581 - coarse_output_accuracy: 0.8552\n",
            "Epoch 13/20\n",
            "391/391 [==============================] - 3s 7ms/step - loss: 0.3966 - fine_output_loss: 0.4033 - coarse_output_loss: 0.3898 - fine_output_accuracy: 0.8774 - coarse_output_accuracy: 0.8736\n",
            "Epoch 14/20\n",
            "391/391 [==============================] - 3s 7ms/step - loss: 0.3766 - fine_output_loss: 0.3975 - coarse_output_loss: 0.3557 - fine_output_accuracy: 0.8834 - coarse_output_accuracy: 0.8841\n",
            "Epoch 15/20\n",
            "391/391 [==============================] - 3s 7ms/step - loss: 0.3543 - fine_output_loss: 0.3861 - coarse_output_loss: 0.3226 - fine_output_accuracy: 0.8863 - coarse_output_accuracy: 0.8948\n",
            "Epoch 16/20\n",
            "391/391 [==============================] - 3s 8ms/step - loss: 0.3171 - fine_output_loss: 0.3458 - coarse_output_loss: 0.2885 - fine_output_accuracy: 0.8978 - coarse_output_accuracy: 0.9052\n",
            "Epoch 17/20\n",
            "391/391 [==============================] - 3s 8ms/step - loss: 0.3162 - fine_output_loss: 0.3339 - coarse_output_loss: 0.2985 - fine_output_accuracy: 0.9026 - coarse_output_accuracy: 0.9037\n",
            "Epoch 18/20\n",
            "391/391 [==============================] - 3s 7ms/step - loss: 0.3002 - fine_output_loss: 0.3310 - coarse_output_loss: 0.2693 - fine_output_accuracy: 0.9033 - coarse_output_accuracy: 0.9129\n",
            "Epoch 19/20\n",
            "391/391 [==============================] - 3s 7ms/step - loss: 0.2508 - fine_output_loss: 0.2774 - coarse_output_loss: 0.2241 - fine_output_accuracy: 0.9207 - coarse_output_accuracy: 0.9275\n",
            "Epoch 20/20\n",
            "391/391 [==============================] - 3s 7ms/step - loss: 0.2587 - fine_output_loss: 0.2945 - coarse_output_loss: 0.2228 - fine_output_accuracy: 0.9161 - coarse_output_accuracy: 0.9295\n"
          ]
        }
      ],
      "source": [
        "# Create and compile the model\n",
        "model = create_multi_task_learning_model()\n",
        "model = compile_multitask_model(model)\n",
        "\n",
        "# Train the model for 15 epochs\n",
        "history = model.fit(x_train, {'fine_output': y_train_fine, 'coarse_output': y_train_coarse},\n",
        "                    epochs=20, batch_size=128, verbose=1)"
      ]
    },
    {
      "cell_type": "code",
      "execution_count": 109,
      "metadata": {
        "colab": {
          "base_uri": "https://localhost:8080/",
          "height": 449
        },
        "id": "2rpY0egssIaq",
        "outputId": "825915de-6554-4d32-d301-738f53ae0442"
      },
      "outputs": [
        {
          "data": {
            "image/png": "[encoded data removed]",
            "text/plain": [
              "<Figure size 640x480 with 1 Axes>"
            ]
          },
          "metadata": {},
          "output_type": "display_data"
        }
      ],
      "source": [
        "# Plot accuracy vs. epochs for gamma=0.5\n",
        "plt.plot(range(len(history.history['fine_output_accuracy'])), history.history['fine_output_accuracy'], label='Fine-grained Accuracy')\n",
        "plt.plot(range(len(history.history['coarse_output_accuracy'])), history.history['coarse_output_accuracy'], label='Coarse-grained Accuracy')\n",
        "plt.xlabel('Epochs')\n",
        "plt.ylabel('Accuracy')\n",
        "plt.legend()\n",
        "plt.show()"
      ]
    },
    {
      "cell_type": "code",
      "execution_count": 110,
      "metadata": {
        "colab": {
          "base_uri": "https://localhost:8080/"
        },
        "id": "3Rcvz5RasR6L",
        "outputId": "8f68de30-21cc-4d93-b818-78979298c2ea"
      },
      "outputs": [
        {
          "name": "stdout",
          "output_type": "stream",
          "text": [
            "1/1 [==============================] - 0s 144ms/step\n",
            "Expected Fine Label: 38\n",
            "Predicted Fine Label: 34\n",
            "Expected Coarse Label: 11\n",
            "Predicted Coarse Label: 12\n"
          ]
        }
      ],
      "source": [
        "# Test the model on a random test image\n",
        "random_ind = np.random.randint(0, x_test.shape[0])\n",
        "image = x_test[random_ind]\n",
        "expected_fine_label = y_test_fine[random_ind]\n",
        "expected_coarse_label = y_test_coarse[random_ind]\n",
        "\n",
        "# Make predictions\n",
        "image = np.expand_dims(image, axis=0)\n",
        "fine_pred, coarse_pred = model.predict(image)\n",
        "\n",
        "print('Expected Fine Label:', np.argmax(expected_fine_label))\n",
        "print('Predicted Fine Label:', np.argmax(fine_pred))\n",
        "print('Expected Coarse Label:', np.argmax(expected_coarse_label))\n",
        "print('Predicted Coarse Label:', np.argmax(coarse_pred))"
      ]
    },
    {
      "cell_type": "code",
      "execution_count": 111,
      "metadata": {
        "colab": {
          "base_uri": "https://localhost:8080/"
        },
        "id": "z9Ok-UQqsXiQ",
        "outputId": "c8a3a8db-921f-4b2f-837d-a26fc65ac780"
      },
      "outputs": [
        {
          "name": "stdout",
          "output_type": "stream",
          "text": [
            "Test Fine-grained Accuracy: 26.79%\n",
            "Test Coarse-grained Accuracy: 38.64%\n"
          ]
        }
      ],
      "source": [
        "# Evaluate the model on the test data\n",
        "test_loss = model.evaluate(x_test, {'fine_output': y_test_fine, 'coarse_output': y_test_coarse}, verbose=0)\n",
        "test_acc_fine = test_loss[3]  # Fine-grained accuracy\n",
        "test_acc_coarse = test_loss[4]  # Coarse-grained accuracy\n",
        "\n",
        "print(f'Test Fine-grained Accuracy: {test_acc_fine * 100:.2f}%')\n",
        "print(f'Test Coarse-grained Accuracy: {test_acc_coarse * 100:.2f}%')\n"
      ]
    },
    {
      "cell_type": "markdown",
      "metadata": {},
      "source": [
        "**Enhanced Multi-Task Learning with ResNet50**"
      ]
    },
    {
      "cell_type": "code",
      "execution_count": 112,
      "metadata": {
        "colab": {
          "base_uri": "https://localhost:8080/"
        },
        "id": "WG5b1tJwsxRD",
        "outputId": "09f1a904-4647-409e-ed2c-d15a45040f60"
      },
      "outputs": [
        {
          "name": "stderr",
          "output_type": "stream",
          "text": [
            "WARNING:absl:`lr` is deprecated in Keras optimizer, please use `learning_rate` or use the legacy optimizer, e.g.,tf.keras.optimizers.legacy.Adam.\n"
          ]
        },
        {
          "name": "stdout",
          "output_type": "stream",
          "text": [
            "Epoch 1/15\n",
            "391/391 [==============================] - 59s 71ms/step - loss: 2.5160 - fine_output_loss: 3.1283 - coarse_output_loss: 1.9038 - fine_output_accuracy: 0.2464 - coarse_output_accuracy: 0.4231 - val_loss: 4.3368 - val_fine_output_loss: 5.0737 - val_coarse_output_loss: 3.5998 - val_fine_output_accuracy: 0.0927 - val_coarse_output_accuracy: 0.1969\n",
            "Epoch 2/15\n",
            "391/391 [==============================] - 25s 65ms/step - loss: 1.9577 - fine_output_loss: 2.4340 - coarse_output_loss: 1.4815 - fine_output_accuracy: 0.3661 - coarse_output_accuracy: 0.5346 - val_loss: 2.2478 - val_fine_output_loss: 2.7742 - val_coarse_output_loss: 1.7214 - val_fine_output_accuracy: 0.3233 - val_coarse_output_accuracy: 0.4901\n",
            "Epoch 3/15\n",
            "391/391 [==============================] - 26s 65ms/step - loss: 1.7937 - fine_output_loss: 2.2329 - coarse_output_loss: 1.3545 - fine_output_accuracy: 0.4054 - coarse_output_accuracy: 0.5721 - val_loss: 2.5258 - val_fine_output_loss: 3.0791 - val_coarse_output_loss: 1.9725 - val_fine_output_accuracy: 0.2838 - val_coarse_output_accuracy: 0.4431\n",
            "Epoch 4/15\n",
            "391/391 [==============================] - 26s 66ms/step - loss: 1.6935 - fine_output_loss: 2.1079 - coarse_output_loss: 1.2791 - fine_output_accuracy: 0.4328 - coarse_output_accuracy: 0.5946 - val_loss: 24.3603 - val_fine_output_loss: 28.0540 - val_coarse_output_loss: 20.6665 - val_fine_output_accuracy: 0.1122 - val_coarse_output_accuracy: 0.2036\n",
            "Epoch 5/15\n",
            "391/391 [==============================] - 26s 66ms/step - loss: 1.5062 - fine_output_loss: 1.8833 - coarse_output_loss: 1.1291 - fine_output_accuracy: 0.4851 - coarse_output_accuracy: 0.6406 - val_loss: 2.0368 - val_fine_output_loss: 2.4752 - val_coarse_output_loss: 1.5983 - val_fine_output_accuracy: 0.3988 - val_coarse_output_accuracy: 0.5362\n",
            "Epoch 6/15\n",
            "391/391 [==============================] - 26s 67ms/step - loss: 1.2831 - fine_output_loss: 1.6220 - coarse_output_loss: 0.9441 - fine_output_accuracy: 0.5404 - coarse_output_accuracy: 0.6962 - val_loss: 2.0332 - val_fine_output_loss: 2.4963 - val_coarse_output_loss: 1.5702 - val_fine_output_accuracy: 0.3880 - val_coarse_output_accuracy: 0.5428\n",
            "Epoch 7/15\n",
            "391/391 [==============================] - 26s 66ms/step - loss: 1.1795 - fine_output_loss: 1.4933 - coarse_output_loss: 0.8657 - fine_output_accuracy: 0.5735 - coarse_output_accuracy: 0.7194 - val_loss: 2.0083 - val_fine_output_loss: 2.4575 - val_coarse_output_loss: 1.5591 - val_fine_output_accuracy: 0.4164 - val_coarse_output_accuracy: 0.5691\n",
            "Epoch 8/15\n",
            "391/391 [==============================] - 26s 66ms/step - loss: 1.0393 - fine_output_loss: 1.3273 - coarse_output_loss: 0.7514 - fine_output_accuracy: 0.6120 - coarse_output_accuracy: 0.7581 - val_loss: 1.9882 - val_fine_output_loss: 2.4284 - val_coarse_output_loss: 1.5481 - val_fine_output_accuracy: 0.4286 - val_coarse_output_accuracy: 0.5698\n",
            "Epoch 9/15\n",
            "391/391 [==============================] - 26s 66ms/step - loss: 1.2715 - fine_output_loss: 1.5906 - coarse_output_loss: 0.9524 - fine_output_accuracy: 0.5491 - coarse_output_accuracy: 0.6953 - val_loss: 1.9993 - val_fine_output_loss: 2.4509 - val_coarse_output_loss: 1.5476 - val_fine_output_accuracy: 0.4105 - val_coarse_output_accuracy: 0.5569\n",
            "Epoch 10/15\n",
            "391/391 [==============================] - 27s 70ms/step - loss: 0.9225 - fine_output_loss: 1.1805 - coarse_output_loss: 0.6646 - fine_output_accuracy: 0.6484 - coarse_output_accuracy: 0.7817 - val_loss: 1.9597 - val_fine_output_loss: 2.3881 - val_coarse_output_loss: 1.5313 - val_fine_output_accuracy: 0.4469 - val_coarse_output_accuracy: 0.5982\n",
            "Epoch 11/15\n",
            "391/391 [==============================] - 26s 67ms/step - loss: 0.7902 - fine_output_loss: 1.0226 - coarse_output_loss: 0.5577 - fine_output_accuracy: 0.6891 - coarse_output_accuracy: 0.8147 - val_loss: 2.1991 - val_fine_output_loss: 2.6495 - val_coarse_output_loss: 1.7488 - val_fine_output_accuracy: 0.4249 - val_coarse_output_accuracy: 0.5659\n",
            "Epoch 12/15\n",
            "391/391 [==============================] - 27s 69ms/step - loss: 0.6921 - fine_output_loss: 0.9031 - coarse_output_loss: 0.4812 - fine_output_accuracy: 0.7209 - coarse_output_accuracy: 0.8384 - val_loss: 2.0723 - val_fine_output_loss: 2.5165 - val_coarse_output_loss: 1.6281 - val_fine_output_accuracy: 0.4546 - val_coarse_output_accuracy: 0.5997\n",
            "Epoch 13/15\n",
            "391/391 [==============================] - 26s 66ms/step - loss: 0.7582 - fine_output_loss: 0.9729 - coarse_output_loss: 0.5434 - fine_output_accuracy: 0.7045 - coarse_output_accuracy: 0.8190 - val_loss: 2.1479 - val_fine_output_loss: 2.6127 - val_coarse_output_loss: 1.6830 - val_fine_output_accuracy: 0.4327 - val_coarse_output_accuracy: 0.5787\n",
            "Epoch 14/15\n",
            "391/391 [==============================] - 26s 67ms/step - loss: 0.6529 - fine_output_loss: 0.8425 - coarse_output_loss: 0.4634 - fine_output_accuracy: 0.7395 - coarse_output_accuracy: 0.8443 - val_loss: 2.8740 - val_fine_output_loss: 3.4480 - val_coarse_output_loss: 2.3000 - val_fine_output_accuracy: 0.3465 - val_coarse_output_accuracy: 0.4993\n",
            "Epoch 15/15\n",
            "391/391 [==============================] - 26s 67ms/step - loss: 0.5833 - fine_output_loss: 0.7554 - coarse_output_loss: 0.4111 - fine_output_accuracy: 0.7630 - coarse_output_accuracy: 0.8626 - val_loss: 3.0614 - val_fine_output_loss: 3.6423 - val_coarse_output_loss: 2.4804 - val_fine_output_accuracy: 0.3635 - val_coarse_output_accuracy: 0.4972\n",
            "Test Fine-grained Accuracy: 36.35%\n",
            "Test Coarse-grained Accuracy: 49.72%\n"
          ]
        }
      ],
      "source": [
        "import tensorflow as tf\n",
        "from tensorflow.keras.applications import ResNet50\n",
        "\n",
        "# Load the pre-trained ResNet50 model\n",
        "base_model = ResNet50(weights='imagenet', include_top=False, input_shape=(32, 32, 3))\n",
        "\n",
        "# Create your model on top of the pre-trained ResNet50\n",
        "x = base_model.output\n",
        "x = tf.keras.layers.GlobalAveragePooling2D()(x)\n",
        "x = tf.keras.layers.Dense(512, activation='relu')(x)\n",
        "\n",
        "# Fine-grained classification branch\n",
        "fine_output = tf.keras.layers.Dense(100, activation='softmax', name='fine_output')(x)\n",
        "\n",
        "# Coarse-grained classification branch\n",
        "coarse_output = tf.keras.layers.Dense(20, activation='softmax', name='coarse_output')(x)\n",
        "\n",
        "model = tf.keras.Model(inputs=base_model.input, outputs=[fine_output, coarse_output])\n",
        "\n",
        "# Compile the model\n",
        "model.compile(optimizer=tf.keras.optimizers.Adam(lr=0.0001),\n",
        "              loss={'fine_output': 'categorical_crossentropy', 'coarse_output': 'categorical_crossentropy'},\n",
        "              loss_weights={'fine_output': 0.5, 'coarse_output': 0.5},\n",
        "              metrics=['accuracy'])\n",
        "\n",
        "# Fine-tune the model on your dataset\n",
        "history = model.fit(x_train, {'fine_output': y_train_fine, 'coarse_output': y_train_coarse},\n",
        "                    epochs=15, batch_size=128, validation_data=(x_test, {'fine_output': y_test_fine, 'coarse_output': y_test_coarse}))\n",
        "\n",
        "# Evaluate the model on the test data\n",
        "test_loss = model.evaluate(x_test, {'fine_output': y_test_fine, 'coarse_output': y_test_coarse}, verbose=0)\n",
        "\n",
        "test_acc_fine = test_loss[3]  # Fine-grained accuracy\n",
        "test_acc_coarse = test_loss[4]  # Coarse-grained accuracy\n",
        "\n",
        "print(f'Test Fine-grained Accuracy: {test_acc_fine * 100:.2f}%')\n",
        "print(f'Test Coarse-grained Accuracy: {test_acc_coarse * 100:.2f}%')\n"
      ]
    },
    {
      "cell_type": "markdown",
      "metadata": {
        "id": "GkPvikiZ8oFI"
      },
      "source": [
        "**Further Adjustments to Improve the Accuracy**\n",
        "1.   Individual Task heads now consists of multiple dense layers with ReLU activation functions\n",
        "2.  Learning rate has been adjusted to 0.00001\n",
        "3.  Giving Priority to Fine labels by adjusting the Loss_weights\n",
        "\n"
      ]
    },
    {
      "cell_type": "code",
      "execution_count": 115,
      "metadata": {
        "colab": {
          "base_uri": "https://localhost:8080/"
        },
        "id": "hkN7NpBX6Ije",
        "outputId": "94b69671-31b9-48e2-d46e-6f7edc0c9cdd"
      },
      "outputs": [
        {
          "name": "stderr",
          "output_type": "stream",
          "text": [
            "WARNING:absl:`lr` is deprecated in Keras optimizer, please use `learning_rate` or use the legacy optimizer, e.g.,tf.keras.optimizers.legacy.Adam.\n"
          ]
        },
        {
          "name": "stdout",
          "output_type": "stream",
          "text": [
            "Epoch 1/15\n",
            "391/391 [==============================] - 59s 76ms/step - loss: 3.5192 - fine_output_loss: 4.0519 - coarse_output_loss: 2.2763 - fine_output_accuracy: 0.0834 - coarse_output_accuracy: 0.3129 - val_loss: 8.2799 - val_fine_output_loss: 8.9815 - val_coarse_output_loss: 6.6428 - val_fine_output_accuracy: 0.0457 - val_coarse_output_accuracy: 0.1740\n",
            "Epoch 2/15\n",
            "391/391 [==============================] - 28s 72ms/step - loss: 2.7966 - fine_output_loss: 3.2262 - coarse_output_loss: 1.7941 - fine_output_accuracy: 0.1891 - coarse_output_accuracy: 0.4456 - val_loss: 3.9408 - val_fine_output_loss: 4.4779 - val_coarse_output_loss: 2.6874 - val_fine_output_accuracy: 0.1526 - val_coarse_output_accuracy: 0.3211\n",
            "Epoch 3/15\n",
            "391/391 [==============================] - 26s 67ms/step - loss: 2.3974 - fine_output_loss: 2.7768 - coarse_output_loss: 1.5120 - fine_output_accuracy: 0.2748 - coarse_output_accuracy: 0.5284 - val_loss: 3.2011 - val_fine_output_loss: 3.6530 - val_coarse_output_loss: 2.1468 - val_fine_output_accuracy: 0.2168 - val_coarse_output_accuracy: 0.4367\n",
            "Epoch 4/15\n",
            "391/391 [==============================] - 26s 66ms/step - loss: 2.1175 - fine_output_loss: 2.4609 - coarse_output_loss: 1.3160 - fine_output_accuracy: 0.3401 - coarse_output_accuracy: 0.5887 - val_loss: 2.7270 - val_fine_output_loss: 3.1351 - val_coarse_output_loss: 1.7747 - val_fine_output_accuracy: 0.2678 - val_coarse_output_accuracy: 0.4844\n",
            "Epoch 5/15\n",
            "391/391 [==============================] - 29s 74ms/step - loss: 1.8869 - fine_output_loss: 2.2015 - coarse_output_loss: 1.1528 - fine_output_accuracy: 0.3961 - coarse_output_accuracy: 0.6362 - val_loss: 2.3593 - val_fine_output_loss: 2.7211 - val_coarse_output_loss: 1.5149 - val_fine_output_accuracy: 0.3418 - val_coarse_output_accuracy: 0.5486\n",
            "Epoch 6/15\n",
            "391/391 [==============================] - 27s 69ms/step - loss: 1.6914 - fine_output_loss: 1.9820 - coarse_output_loss: 1.0133 - fine_output_accuracy: 0.4496 - coarse_output_accuracy: 0.6772 - val_loss: 2.6599 - val_fine_output_loss: 3.0532 - val_coarse_output_loss: 1.7421 - val_fine_output_accuracy: 0.3114 - val_coarse_output_accuracy: 0.5101\n",
            "Epoch 7/15\n",
            "391/391 [==============================] - 29s 73ms/step - loss: 1.5218 - fine_output_loss: 1.7897 - coarse_output_loss: 0.8966 - fine_output_accuracy: 0.4915 - coarse_output_accuracy: 0.7120 - val_loss: 2.4848 - val_fine_output_loss: 2.8579 - val_coarse_output_loss: 1.6140 - val_fine_output_accuracy: 0.3492 - val_coarse_output_accuracy: 0.5510\n",
            "Epoch 8/15\n",
            "391/391 [==============================] - 33s 85ms/step - loss: 1.4114 - fine_output_loss: 1.6650 - coarse_output_loss: 0.8197 - fine_output_accuracy: 0.5255 - coarse_output_accuracy: 0.7362 - val_loss: 2.5248 - val_fine_output_loss: 2.9078 - val_coarse_output_loss: 1.6311 - val_fine_output_accuracy: 0.3626 - val_coarse_output_accuracy: 0.5484\n",
            "Epoch 9/15\n",
            "391/391 [==============================] - 28s 72ms/step - loss: 1.2607 - fine_output_loss: 1.4952 - coarse_output_loss: 0.7134 - fine_output_accuracy: 0.5677 - coarse_output_accuracy: 0.7713 - val_loss: 3.2161 - val_fine_output_loss: 3.6831 - val_coarse_output_loss: 2.1266 - val_fine_output_accuracy: 0.3125 - val_coarse_output_accuracy: 0.4979\n",
            "Epoch 10/15\n",
            "391/391 [==============================] - 27s 69ms/step - loss: 1.2888 - fine_output_loss: 1.5238 - coarse_output_loss: 0.7405 - fine_output_accuracy: 0.5632 - coarse_output_accuracy: 0.7647 - val_loss: 2.5170 - val_fine_output_loss: 2.9004 - val_coarse_output_loss: 1.6226 - val_fine_output_accuracy: 0.3741 - val_coarse_output_accuracy: 0.5744\n",
            "Epoch 11/15\n",
            "391/391 [==============================] - 26s 68ms/step - loss: 1.0570 - fine_output_loss: 1.2651 - coarse_output_loss: 0.5712 - fine_output_accuracy: 0.6218 - coarse_output_accuracy: 0.8132 - val_loss: 2.5848 - val_fine_output_loss: 2.9754 - val_coarse_output_loss: 1.6733 - val_fine_output_accuracy: 0.3918 - val_coarse_output_accuracy: 0.5761\n",
            "Epoch 12/15\n",
            "391/391 [==============================] - 31s 78ms/step - loss: 0.9227 - fine_output_loss: 1.1104 - coarse_output_loss: 0.4848 - fine_output_accuracy: 0.6613 - coarse_output_accuracy: 0.8433 - val_loss: 2.5206 - val_fine_output_loss: 2.9111 - val_coarse_output_loss: 1.6094 - val_fine_output_accuracy: 0.4143 - val_coarse_output_accuracy: 0.5887\n",
            "Epoch 13/15\n",
            "391/391 [==============================] - 26s 67ms/step - loss: 0.8185 - fine_output_loss: 0.9900 - coarse_output_loss: 0.4183 - fine_output_accuracy: 0.6961 - coarse_output_accuracy: 0.8645 - val_loss: 2.9354 - val_fine_output_loss: 3.3890 - val_coarse_output_loss: 1.8770 - val_fine_output_accuracy: 0.3934 - val_coarse_output_accuracy: 0.5641\n",
            "Epoch 14/15\n",
            "391/391 [==============================] - 32s 81ms/step - loss: 0.7487 - fine_output_loss: 0.9083 - coarse_output_loss: 0.3762 - fine_output_accuracy: 0.7216 - coarse_output_accuracy: 0.8781 - val_loss: 2.4968 - val_fine_output_loss: 2.8650 - val_coarse_output_loss: 1.6377 - val_fine_output_accuracy: 0.4387 - val_coarse_output_accuracy: 0.6057\n",
            "Epoch 15/15\n",
            "391/391 [==============================] - 31s 79ms/step - loss: 0.6777 - fine_output_loss: 0.8256 - coarse_output_loss: 0.3327 - fine_output_accuracy: 0.7497 - coarse_output_accuracy: 0.8939 - val_loss: 2.7306 - val_fine_output_loss: 3.1396 - val_coarse_output_loss: 1.7762 - val_fine_output_accuracy: 0.4343 - val_coarse_output_accuracy: 0.6093\n",
            "Test Fine-grained Accuracy: 43.43%\n",
            "Test Coarse-grained Accuracy: 60.93%\n"
          ]
        }
      ],
      "source": [
        "from tensorflow.keras.applications import ResNet50\n",
        "import tensorflow as tf\n",
        "\n",
        "# Load the pre-trained ResNet50 model\n",
        "base_model = ResNet50(weights='imagenet', include_top=False, input_shape=(32, 32, 3))\n",
        "\n",
        "# Create your model on top of the pre-trained ResNet50\n",
        "x = base_model.output\n",
        "x = tf.keras.layers.GlobalAveragePooling2D()(x)\n",
        "x = tf.keras.layers.Dense(512, activation='relu')(x)\n",
        "\n",
        "# Fine-grained classification branch\n",
        "fine_output = tf.keras.layers.Dense(64, activation='relu')(x)\n",
        "fine_output = tf.keras.layers.Dense(32, activation='relu')(fine_output)\n",
        "fine_output = tf.keras.layers.Dense(16, activation='relu')(fine_output)\n",
        "fine_output = tf.keras.layers.Dense(8, activation='relu')(fine_output)\n",
        "fine_output = tf.keras.layers.Dense(100, activation='softmax', name='fine_output')(fine_output)\n",
        "\n",
        "# Coarse-grained classification branch\n",
        "coarse_output = tf.keras.layers.Dense(32, activation='relu')(x)\n",
        "coarse_output = tf.keras.layers.Dense(16, activation='relu')(coarse_output)\n",
        "coarse_output = tf.keras.layers.Dense(20, activation='softmax', name='coarse_output')(coarse_output)\n",
        "\n",
        "# Combine both branches in the model\n",
        "model = tf.keras.Model(inputs=base_model.input, outputs=[fine_output, coarse_output])\n",
        "\n",
        "# Compile the model\n",
        "model.compile(optimizer=tf.keras.optimizers.Adam(lr=0.00001),  # Adjust the learning rate as needed\n",
        "              loss={'fine_output': 'categorical_crossentropy', 'coarse_output': 'categorical_crossentropy'},\n",
        "              loss_weights={'fine_output': 0.7, 'coarse_output': 0.3},\n",
        "              metrics=['accuracy'])\n",
        "\n",
        "# Continue training the model for additional epochs\n",
        "history = model.fit(x_train, {'fine_output': y_train_fine, 'coarse_output': y_train_coarse},\n",
        "                    epochs=15, batch_size=128, validation_data=(x_test, {'fine_output': y_test_fine, 'coarse_output': y_test_coarse}))\n",
        "\n",
        "# Evaluate the model on the test data\n",
        "test_loss = model.evaluate(x_test, {'fine_output': y_test_fine, 'coarse_output': y_test_coarse}, verbose=0)\n",
        "\n",
        "test_acc_fine = test_loss[3]  # Fine-grained accuracy\n",
        "test_acc_coarse = test_loss[4]  # Coarse-grained accuracy\n",
        "\n",
        "print(f'Test Fine-grained Accuracy: {test_acc_fine * 100:.2f}%')\n",
        "print(f'Test Coarse-grained Accuracy: {test_acc_coarse * 100:.2f}%')\n"
      ]
    },
    {
      "cell_type": "code",
      "execution_count": null,
      "metadata": {},
      "outputs": [],
      "source": []
    }
  ],
  "metadata": {
    "accelerator": "GPU",
    "colab": {
      "gpuType": "T4",
      "provenance": []
    },
    "kernelspec": {
      "display_name": "Python 3",
      "name": "python3"
    },
    "language_info": {
      "codemirror_mode": {
        "name": "ipython",
        "version": 3
      },
      "file_extension": ".py",
      "mimetype": "text/x-python",
      "name": "python",
      "nbconvert_exporter": "python",
      "pygments_lexer": "ipython3",
      "version": "3.8.10"
    }
  },
  "nbformat": 4,
  "nbformat_minor": 0
}
